{
 "cells": [
  {
   "cell_type": "code",
   "execution_count": 1,
   "id": "f5d63e07-7914-4285-a934-a0abd7b9d392",
   "metadata": {},
   "outputs": [],
   "source": [
    "# (Topic 01)functional programming (imutable data structure)\n",
    "# which connat modified"
   ]
  },
  {
   "cell_type": "code",
   "execution_count": 2,
   "id": "cc66fbff-71be-4604-b40d-3d9639f49321",
   "metadata": {},
   "outputs": [],
   "source": [
    "# simple list dictionary\n",
    "scientists = [{'name': 'Eda lovelace', 'field': 'Physics', 'Born': 1926,'Noble':'True'},\n",
    "{'name': 'Ibn Sina', 'field': 'Madicine', 'Born': 980,'Noble':'False'},\n",
    "{'name': 'Ahmad Zewial', 'field': 'Chemsitry', 'Born': 1946,'Noble':'True'},\n",
    "{'name': 'Al-Khwarizmi', 'field': 'Math', 'Born': 780,'Noble':'False'}\n",
    "]"
   ]
  },
  {
   "cell_type": "code",
   "execution_count": 3,
   "id": "78e79a6a-f09c-42d2-a6c0-eb09ce844e6e",
   "metadata": {},
   "outputs": [
    {
     "data": {
      "text/plain": [
       "[{'name': 'Eda lovelace', 'field': 'Physics', 'Born': 1926, 'Noble': 'True'},\n",
       " {'name': 'Ibn Sina', 'field': 'Madicine', 'Born': 980, 'Noble': 'False'},\n",
       " {'name': 'Ahmad Zewial', 'field': 'Chemsitry', 'Born': 1946, 'Noble': 'True'},\n",
       " {'name': 'Al-Khwarizmi', 'field': 'Math', 'Born': 780, 'Noble': 'False'}]"
      ]
     },
     "execution_count": 3,
     "metadata": {},
     "output_type": "execute_result"
    }
   ],
   "source": [
    "scientists"
   ]
  },
  {
   "cell_type": "code",
   "execution_count": 4,
   "id": "4f8a0d87-ad1d-45c9-a710-dfdc09d64a65",
   "metadata": {},
   "outputs": [],
   "source": [
    "# As it is mutable data structure, so it can be change or modified easily\n",
    "scientists[0]['name'] = 'Abdus Salam'"
   ]
  },
  {
   "cell_type": "code",
   "execution_count": 5,
   "id": "0a0b08ac-7b58-45aa-a5bd-28578cd5e472",
   "metadata": {},
   "outputs": [
    {
     "data": {
      "text/plain": [
       "[{'name': 'Abdus Salam', 'field': 'Physics', 'Born': 1926, 'Noble': 'True'},\n",
       " {'name': 'Ibn Sina', 'field': 'Madicine', 'Born': 980, 'Noble': 'False'},\n",
       " {'name': 'Ahmad Zewial', 'field': 'Chemsitry', 'Born': 1946, 'Noble': 'True'},\n",
       " {'name': 'Al-Khwarizmi', 'field': 'Math', 'Born': 780, 'Noble': 'False'}]"
      ]
     },
     "execution_count": 5,
     "metadata": {},
     "output_type": "execute_result"
    }
   ],
   "source": [
    "# now below list is modified form \n",
    "scientists"
   ]
  },
  {
   "cell_type": "code",
   "execution_count": 6,
   "id": "ce60c54a-800f-4d64-8a3e-dddba26174aa",
   "metadata": {},
   "outputs": [],
   "source": [
    "# Now update our list with collection module which make the list immutable\n",
    "import collections\n",
    "# use 'collections.namedtuple' function\n",
    "scientist = collections.namedtuple('scientist', [\n",
    "    'name',\n",
    "    'field',\n",
    "    'Born',\n",
    "    'Noble'\n",
    "])"
   ]
  },
  {
   "cell_type": "code",
   "execution_count": 7,
   "id": "1771218e-ec4b-46f6-8b97-70d2c2210073",
   "metadata": {},
   "outputs": [
    {
     "data": {
      "text/plain": [
       "scientist(name='Abdus Salam', field='Physics', Born=1926, Noble='True')"
      ]
     },
     "execution_count": 7,
     "metadata": {},
     "output_type": "execute_result"
    }
   ],
   "source": [
    "scientist(name='Abdus Salam', field='Physics',Born= 1926, Noble='True')"
   ]
  },
  {
   "cell_type": "code",
   "execution_count": 8,
   "id": "b551980c-a167-4ee6-bc09-a2fb52809c97",
   "metadata": {},
   "outputs": [
    {
     "name": "stdout",
     "output_type": "stream",
     "text": [
      "Abdus Salam\n",
      "True\n",
      "Physics\n"
     ]
    }
   ],
   "source": [
    "# Name to scientists object as \"Salam\" and then we will called any argument of the list\n",
    "Salam = scientist(name='Abdus Salam', field='Physics',Born= 1926, Noble='True')\n",
    "print(Salam.name)\n",
    "print(Salam.Noble)\n",
    "print(Salam.field)"
   ]
  },
  {
   "cell_type": "code",
   "execution_count": 9,
   "id": "b2621dba-5e37-4500-9166-5d73548a377e",
   "metadata": {},
   "outputs": [
    {
     "ename": "AttributeError",
     "evalue": "can't set attribute",
     "output_type": "error",
     "traceback": [
      "\u001b[1;31m---------------------------------------------------------------------------\u001b[0m",
      "\u001b[1;31mAttributeError\u001b[0m                            Traceback (most recent call last)",
      "Cell \u001b[1;32mIn[9], line 2\u001b[0m\n\u001b[0;32m      1\u001b[0m \u001b[38;5;66;03m# As this is immutable so we cannot modified it and show an error \u001b[39;00m\n\u001b[1;32m----> 2\u001b[0m Salam\u001b[38;5;241m.\u001b[39mname \u001b[38;5;241m=\u001b[39m \u001b[38;5;124m'\u001b[39m\u001b[38;5;124mAli Salam\u001b[39m\u001b[38;5;124m'\u001b[39m\n",
      "\u001b[1;31mAttributeError\u001b[0m: can't set attribute"
     ]
    }
   ],
   "source": [
    "# As this is immutable so we cannot modified it and show an error \n",
    "Salam.name = 'Ali Salam'"
   ]
  },
  {
   "cell_type": "code",
   "execution_count": null,
   "id": "10253aff-30a9-4d1f-9c7d-03c9113c164e",
   "metadata": {},
   "outputs": [],
   "source": [
    "scientist\n",
    "[scientist(name = 'Abdus Salam', field='Physics',Born= 1926, Noble='True'),\n",
    "scientist(name='Ahmad Zewail', field='Madicine',Born= 980, Noble='False'),\n",
    "scientist(name='AL Sina', field='Chemsitry',Born= 1926, Noble='True'),\n",
    "scientist(name='AL Kharizmi', field='Math',Born= 780, Noble='False')]"
   ]
  },
  {
   "cell_type": "code",
   "execution_count": null,
   "id": "ecf454ba-8c5a-44a2-9991-55fb6595b45a",
   "metadata": {},
   "outputs": [],
   "source": [
    "from pprint import pprint\n",
    "scientist\n",
    "(scientist(name='Abdus Salam', field='Physics', Born=1926, Noble='True'),\n",
    "scientist(name='Ahmad Zewail', field='Madicine', Born=980, Noble='False'),\n",
    "scientist(name='AL Sina', field='Chemsitry', Born=1926, Noble='True'),\n",
    "scientist(name='AL Kharizmi', field='Math', Born=780, Noble='False'))"
   ]
  },
  {
   "cell_type": "code",
   "execution_count": 1,
   "id": "25bb5b59-df1f-499e-bf1d-951a1404fab4",
   "metadata": {},
   "outputs": [
    {
     "name": "stdout",
     "output_type": "stream",
     "text": [
      "[1, 2, 3, 4, 5, 6, 7, 8, 9, 10]\n"
     ]
    }
   ],
   "source": [
    "# (Topic 02) Reverse a list in python.\n",
    "# Three method to reverse a list.\n",
    "# No#01:- reverse() function (it is very easy, clean way to reverse a list and also modified a list) \n",
    "My_list = [1,2,3,4,5,6,7,8,9,10]\n",
    "print(My_list)"
   ]
  },
  {
   "cell_type": "code",
   "execution_count": 2,
   "id": "be51f832-60e5-4685-a9d7-4d736ad35097",
   "metadata": {},
   "outputs": [
    {
     "name": "stdout",
     "output_type": "stream",
     "text": [
      "[10, 9, 8, 7, 6, 5, 4, 3, 2, 1]\n",
      "[1, 2, 3, 4, 5, 6, 7, 8, 9, 10]\n",
      "[10, 9, 8, 7, 6, 5, 4, 3, 2, 1]\n",
      "[1, 2, 3, 4, 5, 6, 7, 8, 9, 10]\n"
     ]
    }
   ],
   "source": [
    "# No#02:- slicing Trick method (it can copy the list not modified it and reverse the list)\n",
    "My_list = [1,2,3,4,5,6,7,8,9,10]\n",
    "print(My_list[::-1])\n",
    "print(My_list) # it con't modified the list but copy it (to aovid this )\n",
    "Copy_list = My_list[::-1]\n",
    "print(Copy_list) # now it differentiate and modified the list \n",
    "print(My_list)"
   ]
  },
  {
   "cell_type": "code",
   "execution_count": 3,
   "id": "488cf481-0302-47a1-aabc-460f3a7b5928",
   "metadata": {},
   "outputs": [
    {
     "name": "stdout",
     "output_type": "stream",
     "text": [
      "[1, 2, 3, 4, 5, 6, 7, 8, 9, 10]\n",
      "<list_reverseiterator object at 0x0000028375CFA8E0>\n",
      "10\n"
     ]
    },
    {
     "ename": "StopIteration",
     "evalue": "",
     "output_type": "error",
     "traceback": [
      "\u001b[1;31m---------------------------------------------------------------------------\u001b[0m",
      "\u001b[1;31mStopIteration\u001b[0m                             Traceback (most recent call last)",
      "Cell \u001b[1;32mIn[3], line 16\u001b[0m\n\u001b[0;32m     14\u001b[0m \u001b[38;5;28mnext\u001b[39m(Copy_list)\n\u001b[0;32m     15\u001b[0m \u001b[38;5;28mnext\u001b[39m(Copy_list)\n\u001b[1;32m---> 16\u001b[0m \u001b[38;5;28;43mnext\u001b[39;49m\u001b[43m(\u001b[49m\u001b[43mCopy_list\u001b[49m\u001b[43m)\u001b[49m \u001b[38;5;66;03m# here the 10 number of iteration completed the interpreted want to stop the iterate, if we not stop it give us error\u001b[39;00m\n\u001b[0;32m     17\u001b[0m \u001b[38;5;28mnext\u001b[39m(Copy_list)\n",
      "\u001b[1;31mStopIteration\u001b[0m: "
     ]
    }
   ],
   "source": [
    "# No#03:- reversed() method (it can copy and not modified the list.\n",
    "My_list = [1, 2, 3, 4, 5, 6, 7, 8, 9, 10]\n",
    "Copy_list = reversed(My_list) # here it doesn't directly reverse the list but it iterate the list and then we get the element of the list one by one, look at below codes and output\n",
    "print(My_list)\n",
    "print(Copy_list)\n",
    "print(next(Copy_list))\n",
    "next(Copy_list)\n",
    "next(Copy_list)\n",
    "next(Copy_list)\n",
    "next(Copy_list)\n",
    "next(Copy_list)\n",
    "next(Copy_list)\n",
    "next(Copy_list)\n",
    "next(Copy_list)\n",
    "next(Copy_list)\n",
    "next(Copy_list) # here the 10 number of iteration completed the interpreted want to stop the iterate, if we not stop it give us error\n",
    "next(Copy_list) # if we go  ahead "
   ]
  },
  {
   "cell_type": "code",
   "execution_count": 4,
   "id": "ba063e87-6fd9-4ad2-9785-07d40ffd4e4e",
   "metadata": {},
   "outputs": [
    {
     "name": "stdout",
     "output_type": "stream",
     "text": [
      "10\n",
      "9\n",
      "8\n",
      "7\n",
      "6\n",
      "5\n",
      "4\n",
      "3\n",
      "2\n",
      "1\n"
     ]
    }
   ],
   "source": [
    "# to reduce the above error we have to do. (use of for loop)\n",
    "for item  in reversed(My_list): # this is very powerful method or technique to use and also modified the list not copy it with clean and understandable codes.\n",
    "    print(item)"
   ]
  },
  {
   "cell_type": "code",
   "execution_count": 5,
   "id": "ee7db417-aa09-44b8-a532-19c15217ff21",
   "metadata": {},
   "outputs": [
    {
     "name": "stdout",
     "output_type": "stream",
     "text": [
      "<list_reverseiterator object at 0x0000028375D0E8B0>   (reverseiterator object)\n",
      "[10, 9, 8, 7, 6, 5, 4, 3, 2, 1]\n",
      "[1, 2, 3, 4, 5, 6, 7, 8, 9, 10]\n"
     ]
    }
   ],
   "source": [
    "My_list = [1, 2, 3, 4, 5, 6, 7, 8, 9, 10]\n",
    "Copy_list = reversed(My_list) # the list if we reversed it, it canvert to reversed iterate object as shown below\n",
    "print(Copy_list, '  (reverseiterator object)')\n",
    "reversed_list = list(reversed(My_list))# it is better then direct reversed operation and make a clean list.but for loop is much better.\n",
    "print(reversed_list) \n",
    "print(My_list)"
   ]
  },
  {
   "cell_type": "code",
   "execution_count": 3,
   "id": "8674de05-dc6f-4443-9225-a6ae23590d31",
   "metadata": {},
   "outputs": [
    {
     "name": "stdout",
     "output_type": "stream",
     "text": [
      "['a', 'b', 'c']\n",
      "['y', 'b', 'c']\n"
     ]
    }
   ],
   "source": [
    "# (Topic 03)  \"Mutable and Immutable data structure\" \n",
    "# \"Mutable\" \n",
    "# it can be a \"list\", \"Dictionary\", \"set\" (Mutable data can be change or modified easily)\n",
    "List = ['a', 'b', 'c']\n",
    "print(List) # simple list\n",
    "List[0]='y' # modified list\n",
    "print(List)"
   ]
  },
  {
   "cell_type": "code",
   "execution_count": 2,
   "id": "e798d213-f508-46e6-9f77-cd3240fe2ddc",
   "metadata": {},
   "outputs": [
    {
     "name": "stdout",
     "output_type": "stream",
     "text": [
      "('x', 'y', 'z')\n"
     ]
    },
    {
     "ename": "TypeError",
     "evalue": "'tuple' object does not support item assignment",
     "output_type": "error",
     "traceback": [
      "\u001b[1;31m---------------------------------------------------------------------------\u001b[0m",
      "\u001b[1;31mTypeError\u001b[0m                                 Traceback (most recent call last)",
      "Cell \u001b[1;32mIn[2], line 5\u001b[0m\n\u001b[0;32m      3\u001b[0m Tuple \u001b[38;5;241m=\u001b[39m (\u001b[38;5;124m'\u001b[39m\u001b[38;5;124mx\u001b[39m\u001b[38;5;124m'\u001b[39m, \u001b[38;5;124m'\u001b[39m\u001b[38;5;124my\u001b[39m\u001b[38;5;124m'\u001b[39m, \u001b[38;5;124m'\u001b[39m\u001b[38;5;124mz\u001b[39m\u001b[38;5;124m'\u001b[39m) \u001b[38;5;66;03m# simple tuple\u001b[39;00m\n\u001b[0;32m      4\u001b[0m \u001b[38;5;28mprint\u001b[39m(Tuple)\n\u001b[1;32m----> 5\u001b[0m Tuple[\u001b[38;5;241m2\u001b[39m] \u001b[38;5;241m=\u001b[39m \u001b[38;5;124m'\u001b[39m\u001b[38;5;124mc\u001b[39m\u001b[38;5;124m'\u001b[39m  \u001b[38;5;66;03m# tuple to modified it, can show error\u001b[39;00m\n\u001b[0;32m      6\u001b[0m \u001b[38;5;28mprint\u001b[39m(Tuple)\n",
      "\u001b[1;31mTypeError\u001b[0m: 'tuple' object does not support item assignment"
     ]
    }
   ],
   "source": [
    "# \"Immutable\"\n",
    "# it can be \"tuple\", \"string\", \"forzen set\" and it cannot be modified\n",
    "Tuple = ('x', 'y', 'z') # simple tuple\n",
    "print(Tuple)\n",
    "Tuple[2] = 'c'  # tuple to modified it, can show error\n",
    "print(Tuple)"
   ]
  },
  {
   "cell_type": "code",
   "execution_count": 4,
   "id": "bbdfab47-3a5c-4af6-9834-1276e927afa5",
   "metadata": {},
   "outputs": [
    {
     "name": "stdout",
     "output_type": "stream",
     "text": [
      "(1, ['a', 'b', 'c'], 'Two')\n",
      "(1, ['a', 'b', 'z'], 'Two')   \"z\" is change\n"
     ]
    },
    {
     "ename": "TypeError",
     "evalue": "'tuple' object does not support item assignment",
     "output_type": "error",
     "traceback": [
      "\u001b[1;31m---------------------------------------------------------------------------\u001b[0m",
      "\u001b[1;31mTypeError\u001b[0m                                 Traceback (most recent call last)",
      "Cell \u001b[1;32mIn[4], line 6\u001b[0m\n\u001b[0;32m      4\u001b[0m Tuple_with_list[\u001b[38;5;241m1\u001b[39m][\u001b[38;5;241m2\u001b[39m] \u001b[38;5;241m=\u001b[39m \u001b[38;5;124m'\u001b[39m\u001b[38;5;124mz\u001b[39m\u001b[38;5;124m'\u001b[39m \u001b[38;5;66;03m# inside tuple, there is a list which is easily to modified \u001b[39;00m\n\u001b[0;32m      5\u001b[0m \u001b[38;5;28mprint\u001b[39m(Tuple_with_list, \u001b[38;5;124m'\u001b[39m\u001b[38;5;124m  \u001b[39m\u001b[38;5;124m\"\u001b[39m\u001b[38;5;124mz\u001b[39m\u001b[38;5;124m\"\u001b[39m\u001b[38;5;124m is change\u001b[39m\u001b[38;5;124m'\u001b[39m)  \n\u001b[1;32m----> 6\u001b[0m Tuple_with_list[\u001b[38;5;241m0\u001b[39m] \u001b[38;5;241m=\u001b[39m \u001b[38;5;241m2\u001b[39m \u001b[38;5;66;03m# first one is tuple element, so it show error\u001b[39;00m\n\u001b[0;32m      7\u001b[0m \u001b[38;5;28mprint\u001b[39m(Tuple_with_list)\n\u001b[0;32m      8\u001b[0m Tuple_with_list[\u001b[38;5;241m2\u001b[39m][\u001b[38;5;241m0\u001b[39m] \u001b[38;5;241m=\u001b[39m \u001b[38;5;124m'\u001b[39m\u001b[38;5;124mone\u001b[39m\u001b[38;5;124m'\u001b[39m \u001b[38;5;66;03m# it is also show an error becasue it is the element of the tuple\u001b[39;00m\n",
      "\u001b[1;31mTypeError\u001b[0m: 'tuple' object does not support item assignment"
     ]
    }
   ],
   "source": [
    "# Now a tuple and inside tuple ther is a list then what's happen to change in tuple and list let's see\n",
    "Tuple_with_list = (1, ['a', 'b', 'c'], 'Two') # (mean that a tuple is immutable and not to modified but inside the tuple there is a list which is easily modified)\n",
    "print(Tuple_with_list)\n",
    "Tuple_with_list[1][2] = 'z' # inside tuple, there is a list which is easily to modified \n",
    "print(Tuple_with_list, '  \"z\" is change')  \n",
    "Tuple_with_list[0] = 2 # first one is tuple element, so it show error\n",
    "print(Tuple_with_list)\n",
    "Tuple_with_list[2][0] = 'one' # it is also show an error becasue it is the element of the tuple\n",
    "print(Tuple_with_list)"
   ]
  },
  {
   "cell_type": "code",
   "execution_count": null,
   "id": "563a7c69-cf3e-4d84-a98d-ccee13671160",
   "metadata": {},
   "outputs": [],
   "source": []
  }
 ],
 "metadata": {
  "kernelspec": {
   "display_name": "Python 3 (ipykernel)",
   "language": "python",
   "name": "python3"
  },
  "language_info": {
   "codemirror_mode": {
    "name": "ipython",
    "version": 3
   },
   "file_extension": ".py",
   "mimetype": "text/x-python",
   "name": "python",
   "nbconvert_exporter": "python",
   "pygments_lexer": "ipython3",
   "version": "3.9.20"
  }
 },
 "nbformat": 4,
 "nbformat_minor": 5
}
