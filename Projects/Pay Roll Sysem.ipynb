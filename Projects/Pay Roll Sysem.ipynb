{
 "cells": [
  {
   "cell_type": "code",
   "execution_count": 2,
   "id": "c34b0e99",
   "metadata": {},
   "outputs": [],
   "source": [
    "import employees\n",
    "import hr"
   ]
  },
  {
   "cell_type": "code",
   "execution_count": 4,
   "id": "130ced32",
   "metadata": {},
   "outputs": [],
   "source": [
    "salary_employee = employees.SalaryEmployee(1, \"John Smith\", 1500)\n",
    "hourly_employee = employees.HourlyEmployee(2, \"Jane Doe\", 40, 15)\n",
    "commission_employee = employees.CommissionEmployee(3, \"Kevin Bacon\", 1000, 250)"
   ]
  },
  {
   "cell_type": "code",
   "execution_count": 5,
   "id": "e61fbc0d",
   "metadata": {},
   "outputs": [],
   "source": [
    "payroll_system = hr.PayrollSystem()"
   ]
  },
  {
   "cell_type": "code",
   "execution_count": 6,
   "id": "55b27d07",
   "metadata": {},
   "outputs": [
    {
     "name": "stdout",
     "output_type": "stream",
     "text": [
      "Calculating Payroll\n",
      "===================\n",
      "Payroll for: 1 - John Smith\n",
      "- Check amount: 1500\n",
      "\n",
      "Payroll for: 2 - Jane Doe\n",
      "- Check amount: 600\n",
      "\n",
      "Payroll for: 3 - Kevin Bacon\n",
      "- Check amount: 1250\n",
      "\n"
     ]
    }
   ],
   "source": [
    "\n",
    "payroll_system.calculate_payroll([salary_employee, hourly_employee, commission_employee])"
   ]
  },
  {
   "cell_type": "markdown",
   "id": "8c40b30c",
   "metadata": {},
   "source": [
    "# Multi-level inheritance "
   ]
  },
  {
   "cell_type": "code",
   "execution_count": 1,
   "id": "431c5a59",
   "metadata": {},
   "outputs": [],
   "source": [
    "import hr\n",
    "import employees\n",
    "import productivity\n",
    "\n",
    "manager = employees.Manager(1, \"Mary Poppins\", 3000)\n",
    "secretary = employees.Secretary(2, \"John Smith\", 1500)\n",
    "sales_guy = employees.SalesPerson(3, \"Kevin Bacon\", 1000, 250)\n",
    "factory_worker = employees.FactoryWorker(4, \"Jane Doe\", 40, 15)"
   ]
  },
  {
   "cell_type": "code",
   "execution_count": 2,
   "id": "17e9935f",
   "metadata": {},
   "outputs": [],
   "source": [
    "employees = [manager,secretary,sales_guy,factory_worker]"
   ]
  },
  {
   "cell_type": "code",
   "execution_count": 3,
   "id": "8e0154f1",
   "metadata": {},
   "outputs": [
    {
     "name": "stdout",
     "output_type": "stream",
     "text": [
      "Tracking Employee Productivity\n",
      "==============================\n",
      "Mary Poppins screams and yells for 40 hours.\n",
      "John Smith expends 40 hours doing office paperwork.\n",
      "Kevin Bacon expends 40 hours on the phone.\n",
      "Jane Doe manufactures gadgets for 40 hours.\n",
      "\n"
     ]
    }
   ],
   "source": [
    "productivity_system = productivity.ProductivitySystem()\n",
    "productivity_system.track(employees, 40)"
   ]
  },
  {
   "cell_type": "code",
   "execution_count": 4,
   "id": "2e9579c2",
   "metadata": {},
   "outputs": [
    {
     "name": "stdout",
     "output_type": "stream",
     "text": [
      "Calculating Payroll\n",
      "===================\n",
      "Payroll for: 1 - Mary Poppins\n",
      "- Check amount: 3000\n",
      "\n",
      "Payroll for: 2 - John Smith\n",
      "- Check amount: 1500\n",
      "\n",
      "Payroll for: 3 - Kevin Bacon\n",
      "- Check amount: 1250\n",
      "\n",
      "Payroll for: 4 - Jane Doe\n",
      "- Check amount: 600\n",
      "\n"
     ]
    }
   ],
   "source": [
    "payroll_system = hr.PayrollSystem()\n",
    "payroll_system.calculate_payroll(employees)"
   ]
  },
  {
   "cell_type": "markdown",
   "id": "44692c09",
   "metadata": {},
   "source": [
    "# Multiple inheritance "
   ]
  },
  {
   "cell_type": "code",
   "execution_count": 18,
   "id": "1a826e85",
   "metadata": {},
   "outputs": [],
   "source": [
    "import hr\n",
    "import employees\n",
    "from employees import Secretary, HourlyEmployee\n",
    "import productivity"
   ]
  },
  {
   "cell_type": "code",
   "execution_count": 19,
   "id": "bc9c3685",
   "metadata": {},
   "outputs": [],
   "source": [
    "class TemporarySecretary(Secretary, HourlyEmployee):\n",
    "    def __init__(self, id, name, hours_worked, hourly_rate):\n",
    "        HourlyEmployee.__init__(self, id, name, hours_worked, hourly_rate)\n",
    "\n",
    "    def calculate_payroll(self):\n",
    "        return HourlyEmployee.calculate_payroll(self)"
   ]
  },
  {
   "cell_type": "code",
   "execution_count": 23,
   "id": "4043f57b",
   "metadata": {},
   "outputs": [
    {
     "name": "stdout",
     "output_type": "stream",
     "text": [
      "Tracking Employee Productivity\n",
      "==============================\n",
      "Mary Poppins screams and yells for 40 hours.\n",
      "John Smith expends 40 hours doing office paperwork.\n",
      "Kevin Bacon expends 40 hours on the phone.\n",
      "Jane Doe manufactures gadgets for 40 hours.\n",
      "Robin Williams expends 40 hours doing office paperwork.\n",
      "\n",
      "Calculating Payroll\n",
      "===================\n",
      "Payroll for: 1 - Mary Poppins\n",
      "- Check amount: 3000\n",
      "\n",
      "Payroll for: 2 - John Smith\n",
      "- Check amount: 1500\n",
      "\n",
      "Payroll for: 3 - Kevin Bacon\n",
      "- Check amount: 1250\n",
      "\n",
      "Payroll for: 4 - Jane Doe\n",
      "- Check amount: 600\n",
      "\n",
      "Payroll for: 5 - Robin Williams\n",
      "- Check amount: 360\n",
      "\n"
     ]
    }
   ],
   "source": [
    "manager = employees.Manager(1, \"Mary Poppins\", 3000)\n",
    "secretary = employees.Secretary(2, \"John Smith\", 1500)\n",
    "sales_guy = employees.SalesPerson(3, \"Kevin Bacon\", 1000, 250)\n",
    "factory_worker = employees.FactoryWorker(4, \"Jane Doe\", 40, 15)\n",
    "temporary_secretary = TemporarySecretary(5, \"Robin Williams\", 40, 9)\n",
    "\n",
    "company_employees = [manager, secretary, sales_guy, factory_worker, temporary_secretary]\n",
    "\n",
    "productivity_system = productivity.ProductivitySystem()\n",
    "productivity_system.track(company_employees, 40)\n",
    "\n",
    "payroll_system = hr.PayrollSystem()\n",
    "payroll_system.calculate_payroll(company_employees)"
   ]
  },
  {
   "cell_type": "code",
   "execution_count": null,
   "id": "aec77cf2",
   "metadata": {},
   "outputs": [],
   "source": []
  }
 ],
 "metadata": {
  "kernelspec": {
   "display_name": "Python 3 (ipykernel)",
   "language": "python",
   "name": "python3"
  },
  "language_info": {
   "codemirror_mode": {
    "name": "ipython",
    "version": 3
   },
   "file_extension": ".py",
   "mimetype": "text/x-python",
   "name": "python",
   "nbconvert_exporter": "python",
   "pygments_lexer": "ipython3",
   "version": "3.9.0"
  }
 },
 "nbformat": 4,
 "nbformat_minor": 5
}
