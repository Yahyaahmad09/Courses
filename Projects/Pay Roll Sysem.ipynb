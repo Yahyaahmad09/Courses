{
 "cells": [
  {
   "cell_type": "code",
   "execution_count": 3,
   "id": "1a8f3526-a9fa-4610-a993-d062179108f3",
   "metadata": {},
   "outputs": [
    {
     "name": "stdout",
     "output_type": "stream",
     "text": [
      "This application is used to convert notebook files (*.ipynb)\n",
      "        to various other formats.\n",
      "\n",
      "        WARNING: THE COMMANDLINE INTERFACE MAY CHANGE IN FUTURE RELEASES.\n",
      "\n",
      "Options\n",
      "=======\n",
      "The options below are convenience aliases to configurable class-options,\n",
      "as listed in the \"Equivalent to\" description-line of the aliases.\n",
      "To see all configurable class-options for some <cmd>, use:\n",
      "    <cmd> --help-all\n",
      "\n",
      "--debug\n",
      "    set log level to logging.DEBUG (maximize logging output)\n",
      "    Equivalent to: [--Application.log_level=10]\n",
      "--show-config\n",
      "    Show the application's configuration (human-readable format)\n",
      "    Equivalent to: [--Application.show_config=True]\n",
      "--show-config-json\n",
      "    Show the application's configuration (json format)\n",
      "    Equivalent to: [--Application.show_config_json=True]\n",
      "--generate-config\n",
      "    generate default config file\n",
      "    Equivalent to: [--JupyterApp.generate_config=True]\n",
      "-y\n",
      "    Answer yes to any questions instead of prompting.\n",
      "    Equivalent to: [--JupyterApp.answer_yes=True]\n",
      "--execute\n",
      "    Execute the notebook prior to export.\n",
      "    Equivalent to: [--ExecutePreprocessor.enabled=True]\n",
      "--allow-errors\n",
      "    Continue notebook execution even if one of the cells throws an error and include the error message in the cell output (the default behaviour is to abort conversion). This flag is only relevant if '--execute' was specified, too.\n",
      "    Equivalent to: [--ExecutePreprocessor.allow_errors=True]\n",
      "--stdin\n",
      "    read a single notebook file from stdin. Write the resulting notebook with default basename 'notebook.*'\n",
      "    Equivalent to: [--NbConvertApp.from_stdin=True]\n",
      "--stdout\n",
      "    Write notebook output to stdout instead of files.\n",
      "    Equivalent to: [--NbConvertApp.writer_class=StdoutWriter]\n",
      "--inplace\n",
      "    Run nbconvert in place, overwriting the existing notebook (only\n",
      "            relevant when converting to notebook format)\n",
      "    Equivalent to: [--NbConvertApp.use_output_suffix=False --NbConvertApp.export_format=notebook --FilesWriter.build_directory=]\n",
      "--clear-output\n",
      "    Clear output of current file and save in place,\n",
      "            overwriting the existing notebook.\n",
      "    Equivalent to: [--NbConvertApp.use_output_suffix=False --NbConvertApp.export_format=notebook --FilesWriter.build_directory= --ClearOutputPreprocessor.enabled=True]\n",
      "--coalesce-streams\n",
      "    Coalesce consecutive stdout and stderr outputs into one stream (within each cell).\n",
      "    Equivalent to: [--NbConvertApp.use_output_suffix=False --NbConvertApp.export_format=notebook --FilesWriter.build_directory= --CoalesceStreamsPreprocessor.enabled=True]\n",
      "--no-prompt\n",
      "    Exclude input and output prompts from converted document.\n",
      "    Equivalent to: [--TemplateExporter.exclude_input_prompt=True --TemplateExporter.exclude_output_prompt=True]\n",
      "--no-input\n",
      "    Exclude input cells and output prompts from converted document.\n",
      "            This mode is ideal for generating code-free reports.\n",
      "    Equivalent to: [--TemplateExporter.exclude_output_prompt=True --TemplateExporter.exclude_input=True --TemplateExporter.exclude_input_prompt=True]\n",
      "--allow-chromium-download\n",
      "    Whether to allow downloading chromium if no suitable version is found on the system.\n",
      "    Equivalent to: [--WebPDFExporter.allow_chromium_download=True]\n",
      "--disable-chromium-sandbox\n",
      "    Disable chromium security sandbox when converting to PDF..\n",
      "    Equivalent to: [--WebPDFExporter.disable_sandbox=True]\n",
      "--show-input\n",
      "    Shows code input. This flag is only useful for dejavu users.\n",
      "    Equivalent to: [--TemplateExporter.exclude_input=False]\n",
      "--embed-images\n",
      "    Embed the images as base64 dataurls in the output. This flag is only useful for the HTML/WebPDF/Slides exports.\n",
      "    Equivalent to: [--HTMLExporter.embed_images=True]\n",
      "--sanitize-html\n",
      "    Whether the HTML in Markdown cells and cell outputs should be sanitized..\n",
      "    Equivalent to: [--HTMLExporter.sanitize_html=True]\n",
      "--log-level=<Enum>\n",
      "    Set the log level by value or name.\n",
      "    Choices: any of [0, 10, 20, 30, 40, 50, 'DEBUG', 'INFO', 'WARN', 'ERROR', 'CRITICAL']\n",
      "    Default: 30\n",
      "    Equivalent to: [--Application.log_level]\n",
      "--config=<Unicode>\n",
      "    Full path of a config file.\n",
      "    Default: ''\n",
      "    Equivalent to: [--JupyterApp.config_file]\n",
      "--to=<Unicode>\n",
      "    The export format to be used, either one of the built-in formats\n",
      "            ['asciidoc', 'custom', 'html', 'latex', 'markdown', 'notebook', 'pdf', 'python', 'qtpdf', 'qtpng', 'rst', 'script', 'slides', 'webpdf']\n",
      "            or a dotted object name that represents the import path for an\n",
      "            ``Exporter`` class\n",
      "    Default: ''\n",
      "    Equivalent to: [--NbConvertApp.export_format]\n",
      "--template=<Unicode>\n",
      "    Name of the template to use\n",
      "    Default: ''\n",
      "    Equivalent to: [--TemplateExporter.template_name]\n",
      "--template-file=<Unicode>\n",
      "    Name of the template file to use\n",
      "    Default: None\n",
      "    Equivalent to: [--TemplateExporter.template_file]\n",
      "--theme=<Unicode>\n",
      "    Template specific theme(e.g. the name of a JupyterLab CSS theme distributed\n",
      "    as prebuilt extension for the lab template)\n",
      "    Default: 'light'\n",
      "    Equivalent to: [--HTMLExporter.theme]\n",
      "--sanitize_html=<Bool>\n",
      "    Whether the HTML in Markdown cells and cell outputs should be sanitized.This\n",
      "    should be set to True by nbviewer or similar tools.\n",
      "    Default: False\n",
      "    Equivalent to: [--HTMLExporter.sanitize_html]\n",
      "--writer=<DottedObjectName>\n",
      "    Writer class used to write the\n",
      "                                        results of the conversion\n",
      "    Default: 'FilesWriter'\n",
      "    Equivalent to: [--NbConvertApp.writer_class]\n",
      "--post=<DottedOrNone>\n",
      "    PostProcessor class used to write the\n",
      "                                        results of the conversion\n",
      "    Default: ''\n",
      "    Equivalent to: [--NbConvertApp.postprocessor_class]\n",
      "--output=<Unicode>\n",
      "    Overwrite base name use for output files.\n",
      "                Supports pattern replacements '{notebook_name}'.\n",
      "    Default: '{notebook_name}'\n",
      "    Equivalent to: [--NbConvertApp.output_base]\n",
      "--output-dir=<Unicode>\n",
      "    Directory to write output(s) to. Defaults\n",
      "                                  to output to the directory of each notebook. To recover\n",
      "                                  previous default behaviour (outputting to the current\n",
      "                                  working directory) use . as the flag value.\n",
      "    Default: ''\n",
      "    Equivalent to: [--FilesWriter.build_directory]\n",
      "--reveal-prefix=<Unicode>\n",
      "    The URL prefix for reveal.js (version 3.x).\n",
      "            This defaults to the reveal CDN, but can be any url pointing to a copy\n",
      "            of reveal.js.\n",
      "            For speaker notes to work, this must be a relative path to a local\n",
      "            copy of reveal.js: e.g., \"reveal.js\".\n",
      "            If a relative path is given, it must be a subdirectory of the\n",
      "            current directory (from which the server is run).\n",
      "            See the usage documentation\n",
      "            (https://nbconvert.readthedocs.io/en/latest/usage.html#reveal-js-html-slideshow)\n",
      "            for more details.\n",
      "    Default: ''\n",
      "    Equivalent to: [--SlidesExporter.reveal_url_prefix]\n",
      "--nbformat=<Enum>\n",
      "    The nbformat version to write.\n",
      "            Use this to downgrade notebooks.\n",
      "    Choices: any of [1, 2, 3, 4]\n",
      "    Default: 4\n",
      "    Equivalent to: [--NotebookExporter.nbformat_version]\n",
      "\n",
      "Examples\n",
      "--------\n",
      "\n",
      "    The simplest way to use nbconvert is\n",
      "\n",
      "            > jupyter nbconvert mynotebook.ipynb --to html\n",
      "\n",
      "            Options include ['asciidoc', 'custom', 'html', 'latex', 'markdown', 'notebook', 'pdf', 'python', 'qtpdf', 'qtpng', 'rst', 'script', 'slides', 'webpdf'].\n",
      "\n",
      "            > jupyter nbconvert --to latex mynotebook.ipynb\n",
      "\n",
      "            Both HTML and LaTeX support multiple output templates. LaTeX includes\n",
      "            'base', 'article' and 'report'.  HTML includes 'basic', 'lab' and\n",
      "            'classic'. You can specify the flavor of the format used.\n",
      "\n",
      "            > jupyter nbconvert --to html --template lab mynotebook.ipynb\n",
      "\n",
      "            You can also pipe the output to stdout, rather than a file\n",
      "\n",
      "            > jupyter nbconvert mynotebook.ipynb --stdout\n",
      "\n",
      "            PDF is generated via latex\n",
      "\n",
      "            > jupyter nbconvert mynotebook.ipynb --to pdf\n",
      "\n",
      "            You can get (and serve) a Reveal.js-powered slideshow\n",
      "\n",
      "            > jupyter nbconvert myslides.ipynb --to slides --post serve\n",
      "\n",
      "            Multiple notebooks can be given at the command line in a couple of\n",
      "            different ways:\n",
      "\n",
      "            > jupyter nbconvert notebook*.ipynb\n",
      "            > jupyter nbconvert notebook1.ipynb notebook2.ipynb\n",
      "\n",
      "            or you can specify the notebooks list in a config file, containing::\n",
      "\n",
      "                c.NbConvertApp.notebooks = [\"my_notebook.ipynb\"]\n",
      "\n",
      "            > jupyter nbconvert --config mycfg.py\n",
      "\n",
      "To see all available configurables, use `--help-all`.\n",
      "\n"
     ]
    },
    {
     "name": "stderr",
     "output_type": "stream",
     "text": [
      "[NbConvertApp] WARNING | pattern 'Pay' matched no files\n",
      "[NbConvertApp] WARNING | pattern 'Roll' matched no files\n",
      "[NbConvertApp] WARNING | pattern 'Sysem.ipynb' matched no files\n"
     ]
    }
   ],
   "source": [
    "!jupyter nbconvert --to markdown Pay Roll Sysem.ipynb"
   ]
  },
  {
   "cell_type": "code",
   "execution_count": 2,
   "id": "c34b0e99",
   "metadata": {},
   "outputs": [],
   "source": [
    "import employees\n",
    "import hr"
   ]
  },
  {
   "cell_type": "code",
   "execution_count": 4,
   "id": "130ced32",
   "metadata": {},
   "outputs": [],
   "source": [
    "salary_employee = employees.SalaryEmployee(1, \"John Smith\", 1500)\n",
    "hourly_employee = employees.HourlyEmployee(2, \"Jane Doe\", 40, 15)\n",
    "commission_employee = employees.CommissionEmployee(3, \"Kevin Bacon\", 1000, 250)"
   ]
  },
  {
   "cell_type": "code",
   "execution_count": 5,
   "id": "e61fbc0d",
   "metadata": {},
   "outputs": [],
   "source": [
    "payroll_system = hr.PayrollSystem()"
   ]
  },
  {
   "cell_type": "code",
   "execution_count": 6,
   "id": "55b27d07",
   "metadata": {},
   "outputs": [
    {
     "name": "stdout",
     "output_type": "stream",
     "text": [
      "Calculating Payroll\n",
      "===================\n",
      "Payroll for: 1 - John Smith\n",
      "- Check amount: 1500\n",
      "\n",
      "Payroll for: 2 - Jane Doe\n",
      "- Check amount: 600\n",
      "\n",
      "Payroll for: 3 - Kevin Bacon\n",
      "- Check amount: 1250\n",
      "\n"
     ]
    }
   ],
   "source": [
    "\n",
    "payroll_system.calculate_payroll([salary_employee, hourly_employee, commission_employee])"
   ]
  },
  {
   "cell_type": "markdown",
   "id": "8c40b30c",
   "metadata": {},
   "source": [
    "# Multi-level inheritance "
   ]
  },
  {
   "cell_type": "code",
   "execution_count": 1,
   "id": "431c5a59",
   "metadata": {},
   "outputs": [],
   "source": [
    "import hr\n",
    "import employees\n",
    "import productivity\n",
    "\n",
    "manager = employees.Manager(1, \"Mary Poppins\", 3000)\n",
    "secretary = employees.Secretary(2, \"John Smith\", 1500)\n",
    "sales_guy = employees.SalesPerson(3, \"Kevin Bacon\", 1000, 250)\n",
    "factory_worker = employees.FactoryWorker(4, \"Jane Doe\", 40, 15)"
   ]
  },
  {
   "cell_type": "code",
   "execution_count": 2,
   "id": "17e9935f",
   "metadata": {},
   "outputs": [],
   "source": [
    "employees = [manager,secretary,sales_guy,factory_worker]"
   ]
  },
  {
   "cell_type": "code",
   "execution_count": 3,
   "id": "8e0154f1",
   "metadata": {},
   "outputs": [
    {
     "name": "stdout",
     "output_type": "stream",
     "text": [
      "Tracking Employee Productivity\n",
      "==============================\n",
      "Mary Poppins screams and yells for 40 hours.\n",
      "John Smith expends 40 hours doing office paperwork.\n",
      "Kevin Bacon expends 40 hours on the phone.\n",
      "Jane Doe manufactures gadgets for 40 hours.\n",
      "\n"
     ]
    }
   ],
   "source": [
    "productivity_system = productivity.ProductivitySystem()\n",
    "productivity_system.track(employees, 40)"
   ]
  },
  {
   "cell_type": "code",
   "execution_count": 4,
   "id": "2e9579c2",
   "metadata": {},
   "outputs": [
    {
     "name": "stdout",
     "output_type": "stream",
     "text": [
      "Calculating Payroll\n",
      "===================\n",
      "Payroll for: 1 - Mary Poppins\n",
      "- Check amount: 3000\n",
      "\n",
      "Payroll for: 2 - John Smith\n",
      "- Check amount: 1500\n",
      "\n",
      "Payroll for: 3 - Kevin Bacon\n",
      "- Check amount: 1250\n",
      "\n",
      "Payroll for: 4 - Jane Doe\n",
      "- Check amount: 600\n",
      "\n"
     ]
    }
   ],
   "source": [
    "payroll_system = hr.PayrollSystem()\n",
    "payroll_system.calculate_payroll(employees)"
   ]
  },
  {
   "cell_type": "markdown",
   "id": "44692c09",
   "metadata": {},
   "source": [
    "# Multiple inheritance "
   ]
  },
  {
   "cell_type": "code",
   "execution_count": 18,
   "id": "1a826e85",
   "metadata": {},
   "outputs": [],
   "source": [
    "import hr\n",
    "import employees\n",
    "from employees import Secretary, HourlyEmployee\n",
    "import productivity"
   ]
  },
  {
   "cell_type": "code",
   "execution_count": 19,
   "id": "bc9c3685",
   "metadata": {},
   "outputs": [],
   "source": [
    "class TemporarySecretary(Secretary, HourlyEmployee):\n",
    "    def __init__(self, id, name, hours_worked, hourly_rate):\n",
    "        HourlyEmployee.__init__(self, id, name, hours_worked, hourly_rate)\n",
    "\n",
    "    def calculate_payroll(self):\n",
    "        return HourlyEmployee.calculate_payroll(self)"
   ]
  },
  {
   "cell_type": "code",
   "execution_count": 23,
   "id": "4043f57b",
   "metadata": {},
   "outputs": [
    {
     "name": "stdout",
     "output_type": "stream",
     "text": [
      "Tracking Employee Productivity\n",
      "==============================\n",
      "Mary Poppins screams and yells for 40 hours.\n",
      "John Smith expends 40 hours doing office paperwork.\n",
      "Kevin Bacon expends 40 hours on the phone.\n",
      "Jane Doe manufactures gadgets for 40 hours.\n",
      "Robin Williams expends 40 hours doing office paperwork.\n",
      "\n",
      "Calculating Payroll\n",
      "===================\n",
      "Payroll for: 1 - Mary Poppins\n",
      "- Check amount: 3000\n",
      "\n",
      "Payroll for: 2 - John Smith\n",
      "- Check amount: 1500\n",
      "\n",
      "Payroll for: 3 - Kevin Bacon\n",
      "- Check amount: 1250\n",
      "\n",
      "Payroll for: 4 - Jane Doe\n",
      "- Check amount: 600\n",
      "\n",
      "Payroll for: 5 - Robin Williams\n",
      "- Check amount: 360\n",
      "\n"
     ]
    }
   ],
   "source": [
    "manager = employees.Manager(1, \"Mary Poppins\", 3000)\n",
    "secretary = employees.Secretary(2, \"John Smith\", 1500)\n",
    "sales_guy = employees.SalesPerson(3, \"Kevin Bacon\", 1000, 250)\n",
    "factory_worker = employees.FactoryWorker(4, \"Jane Doe\", 40, 15)\n",
    "temporary_secretary = TemporarySecretary(5, \"Robin Williams\", 40, 9)\n",
    "\n",
    "company_employees = [manager, secretary, sales_guy, factory_worker, temporary_secretary]\n",
    "\n",
    "productivity_system = productivity.ProductivitySystem()\n",
    "productivity_system.track(company_employees, 40)\n",
    "\n",
    "payroll_system = hr.PayrollSystem()\n",
    "payroll_system.calculate_payroll(company_employees)"
   ]
  },
  {
   "cell_type": "code",
   "execution_count": null,
   "id": "aec77cf2",
   "metadata": {},
   "outputs": [],
   "source": []
  }
 ],
 "metadata": {
  "kernelspec": {
   "display_name": "Python 3 (ipykernel)",
   "language": "python",
   "name": "python3"
  },
  "language_info": {
   "codemirror_mode": {
    "name": "ipython",
    "version": 3
   },
   "file_extension": ".py",
   "mimetype": "text/x-python",
   "name": "python",
   "nbconvert_exporter": "python",
   "pygments_lexer": "ipython3",
   "version": "3.9.0"
  }
 },
 "nbformat": 4,
 "nbformat_minor": 5
}
