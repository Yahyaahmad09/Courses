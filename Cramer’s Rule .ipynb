{
 "cells": [
  {
   "cell_type": "code",
   "execution_count": 6,
   "id": "8e6eb28f",
   "metadata": {},
   "outputs": [],
   "source": [
    "import numpy as np"
   ]
  },
  {
   "cell_type": "code",
   "execution_count": 7,
   "id": "5df38837",
   "metadata": {},
   "outputs": [],
   "source": [
    "class CramersRule:\n",
    "    def __init__(self, A, B):\n",
    "        self.A = np.array(A, dtype=float)\n",
    "        self.B = np.array(B, dtype=float)\n",
    "        \n",
    "\n",
    "        if self.B.shape[0] != self.A.shape[0]:\n",
    "            raise ValueError(\"Constant matrix must match the number of equations.\")\n",
    "        \n",
    "\n",
    "        self.det_A = np.linalg.det(self.A)\n",
    "        \n",
    "    \n",
    "        if np.isclose(self.det_A, 0):\n",
    "            raise ValueError(\"Determinant is zero, the system has no unique solution.\")\n",
    "\n",
    "    def solve(self):\n",
    "\n",
    "        Ai_matrices = np.repeat(self.A[:, :, np.newaxis], self.A.shape[1], axis=2)\n",
    "        \n",
    "        Ai_matrices[:, np.arange(self.A.shape[1]), np.arange(self.A.shape[1])] = self.B[:, np.newaxis]\n",
    "        \n",
    "        det_Ai = np.linalg.det(Ai_matrices)\n",
    "\n",
    "        return det_Ai / self.det_A"
   ]
  },
  {
   "cell_type": "code",
   "execution_count": 14,
   "id": "4128309a",
   "metadata": {},
   "outputs": [],
   "source": [
    "A = [[2, -1, 3],\n",
    "     [1,  1, 1],\n",
    "     [3,  0, 2]]\n",
    "\n",
    "B = [5, 6, 7]"
   ]
  },
  {
   "cell_type": "code",
   "execution_count": 15,
   "id": "aa869bda",
   "metadata": {},
   "outputs": [],
   "source": [
    "exmp1 = CramersRule(A, B)\n",
    "solution = exmp1.solve()"
   ]
  },
  {
   "cell_type": "code",
   "execution_count": 16,
   "id": "fd36d62f",
   "metadata": {},
   "outputs": [
    {
     "data": {
      "text/plain": [
       "array([-18.        , -33.33333333, -50.16666667])"
      ]
     },
     "execution_count": 16,
     "metadata": {},
     "output_type": "execute_result"
    }
   ],
   "source": [
    "solution"
   ]
  },
  {
   "cell_type": "code",
   "execution_count": null,
   "id": "a0bfc062",
   "metadata": {},
   "outputs": [],
   "source": []
  }
 ],
 "metadata": {
  "kernelspec": {
   "display_name": "Python 3 (ipykernel)",
   "language": "python",
   "name": "python3"
  },
  "language_info": {
   "codemirror_mode": {
    "name": "ipython",
    "version": 3
   },
   "file_extension": ".py",
   "mimetype": "text/x-python",
   "name": "python",
   "nbconvert_exporter": "python",
   "pygments_lexer": "ipython3",
   "version": "3.9.20"
  }
 },
 "nbformat": 4,
 "nbformat_minor": 5
}
